{
  "nbformat": 4,
  "nbformat_minor": 0,
  "metadata": {
    "colab": {
      "provenance": [],
      "authorship_tag": "ABX9TyO2w11skXmAMrW4E132Kvrx",
      "include_colab_link": true
    },
    "kernelspec": {
      "name": "python3",
      "display_name": "Python 3"
    },
    "language_info": {
      "name": "python"
    }
  },
  "cells": [
    {
      "cell_type": "markdown",
      "metadata": {
        "id": "view-in-github",
        "colab_type": "text"
      },
      "source": [
        "<a href=\"https://colab.research.google.com/github/Roms2806/Ciencia_de_Dados_com_Python/blob/main/devweek.ipynb\" target=\"_parent\"><img src=\"https://colab.research.google.com/assets/colab-badge.svg\" alt=\"Open In Colab\"/></a>"
      ]
    },
    {
      "cell_type": "code",
      "execution_count": null,
      "metadata": {
        "colab": {
          "base_uri": "https://localhost:8080/"
        },
        "id": "rOc44LFJrQ1t",
        "outputId": "4b6044fe-c4e2-4c98-f2a8-f2f47ee265c9"
      },
      "outputs": [
        {
          "output_type": "stream",
          "name": "stdout",
          "text": [
            "   nota                                         comentario\n",
            "0    10        Excelente Bootcamp, estou muito satisfeito!\n",
            "1     6  Bootcamp razoável, torcendo para o próximo ser...\n",
            "2     9  Bootcamp top, mas mentorias de IA o tornariam ...\n",
            "3    10  Bootcamp incrível, continuem potencializando a...\n",
            "4     7               O Bootcamp foi ok, nada de especial.\n",
            "40.0\n"
          ]
        }
      ],
      "source": [
        "# > este código baixa e ler o arquivo csv\n",
        "# > e da um calculo do nps  (Net Promoter Score = metodologia de satisfação de cliente, para avaliar grau de fidelidade)\n",
        "\n",
        "import pandas as pd\n",
        "\n",
        "dados = pd.read_csv('/content/arquivoteste.csv', delimiter = ';') #read ler o arquivo\n",
        "print(dados.head()) #head mostra o arquivo em tela a baixo com print\n",
        "\n",
        "detratores = 0\n",
        "promotores = 0\n",
        "\n",
        "notas = dados['nota']\n",
        "\n",
        "for nota in notas:\n",
        "  if nota >= 9:\n",
        "    promotores += 1\n",
        "  elif nota <= 6:\n",
        "    detratores += 1\n",
        "nps = (promotores - detratores) / len(notas) *100\n",
        "print(nps)"
      ]
    },
    {
      "cell_type": "code",
      "source": [
        "# > Implementando o mesmo código com paradigmas funcionais (de maneira funcional)\n",
        "# > tem como objetivo reaporveitar código\n",
        "import pandas as pd\n",
        "\n",
        "#declarando função\n",
        "def calcularnps(notas): #notas sendo parâmetro para função\n",
        "  detratores = 0\n",
        "  promotores = 0\n",
        "\n",
        "\n",
        "  for nota in notas:\n",
        "    if nota >= 9:\n",
        "      promotores += 1\n",
        "    elif nota <= 6:\n",
        "      detratores += 1\n",
        "  nps = (promotores - detratores) / len(notas) *100\n",
        "  return nps\n",
        "\n",
        "\n",
        "dados = pd.read_csv('/content/arquivoteste.csv', delimiter = ';') #read ler o arquivo\n",
        "\n",
        "notas = dados['nota']\n",
        "\n",
        "print(calcularnps(notas)) #então chamarei a função para realmente o código funcionar e realizar o que a gente quer, que é calcular o NPS"
      ],
      "metadata": {
        "colab": {
          "base_uri": "https://localhost:8080/"
        },
        "id": "svGJJnvSbS0E",
        "outputId": "4a93b8f3-da0d-4d2f-8410-3e1a20f815be"
      },
      "execution_count": null,
      "outputs": [
        {
          "output_type": "stream",
          "name": "stdout",
          "text": [
            "40.0\n"
          ]
        }
      ]
    },
    {
      "cell_type": "code",
      "source": [
        "# > Atribuir a um paradigma orientada a objeto usando classe e objetos\n",
        "\n",
        "import pandas as pd\n",
        "\n",
        "\n",
        "class Arquivo:\n",
        "  #decompor um problema maior em pequenas classes e objetos que conseguem resolver partes escificas\n",
        "  def __init__(self, notas, comentario): #nota e comentario são os atributos\n",
        "    self.notas = notas\n",
        "    self.comentario = comentario\n",
        "#armazenar as informações que são importantes para nós\n",
        "\n",
        "class Analisador:\n",
        "  def __init__(self, arquivo): #SELF é um objeto que chama o método\n",
        "    self.arquivo = arquivo\n",
        "\n",
        "  #declarando função\n",
        "  def calcularnps(self): #notas sendo parâmetro para função\n",
        "   detratores = 0\n",
        "   promotores = 0\n",
        "\n",
        "   for arquivos in self.arquivo:\n",
        "    if arquivos.notas >= 9:\n",
        "      promotores += 1\n",
        "    elif arquivos.notas <= 6:\n",
        "      detratores += 1\n",
        "   nps = (promotores - detratores) / len(self.arquivo) * 100\n",
        "   return nps\n",
        "\n",
        "\n",
        "dados = pd.read_csv('/content/arquivoteste.csv', delimiter = ';')\n",
        "\n",
        "arquivo = [Arquivo(linha[\"nota\"], linha[\"comentario\"])  for indice, linha in dados.iterrows()] #iterrows : interar as linhas\n",
        "\n",
        "\n",
        "analisador = Analisador(arquivo)\n",
        "nps = analisador.calcularnps()\n",
        "print(nps)\n"
      ],
      "metadata": {
        "colab": {
          "base_uri": "https://localhost:8080/"
        },
        "id": "QFgkyMha-Zy8",
        "outputId": "016e60ab-b7b9-4d76-a8cc-8514defac7aa"
      },
      "execution_count": 3,
      "outputs": [
        {
          "output_type": "stream",
          "name": "stdout",
          "text": [
            "40.0\n"
          ]
        }
      ]
    }
  ]
}